{
 "cells": [
  {
   "cell_type": "code",
   "execution_count": 7,
   "id": "21dc7ab8",
   "metadata": {},
   "outputs": [],
   "source": [
    "import requests\n",
    "from bs4 import BeautifulSoup\n",
    "import numpy as np\n",
    "import pandas as pd"
   ]
  },
  {
   "cell_type": "code",
   "execution_count": 8,
   "id": "00f77465",
   "metadata": {},
   "outputs": [],
   "source": [
    "pages = np.arange(0, 1000, 100)\n",
    "movie_list = []"
   ]
  },
  {
   "cell_type": "code",
   "execution_count": 9,
   "id": "aaa2b868",
   "metadata": {},
   "outputs": [],
   "source": [
    "for page in pages:\n",
    "\n",
    "    URL = \"https://www.imdb.com/search/title/?groups=top_1000&sort=user_rating,desc&count=100&start=\" + str(page)\n",
    "    response = requests.get(URL, headers={\"Accept-Language\":\"en-US\"})\n",
    "    soup = BeautifulSoup(response.content, \"html.parser\")\n",
    "    movies = soup.find_all(class_='lister-item-content')\n",
    "  \n",
    "    for movie in movies:\n",
    "        title = movie.find(\"h3\").find(\"a\").string\n",
    "        duration = int(movie.find(\"span\", class_=\"runtime\").string.strip(' min'))\n",
    "        txt = movie.find_all(\"p\", class_= \"text-muted\")[1].text.lstrip('\\n')\n",
    "        genre = movie.find(\"span\", class_ = 'genre').text.lstrip('\\n').strip()\n",
    "\n",
    "        movie_list.append({'title': title, 'txt': txt, 'duration': duration, 'genre': genre})"
   ]
  },
  {
   "cell_type": "code",
   "execution_count": 16,
   "id": "d9931903",
   "metadata": {},
   "outputs": [
    {
     "data": {
      "text/plain": [
       "'Action, Crime, Drama'"
      ]
     },
     "execution_count": 16,
     "metadata": {},
     "output_type": "execute_result"
    }
   ],
   "source": [
    "movie_df['genre'][2]"
   ]
  },
  {
   "cell_type": "code",
   "execution_count": 4,
   "id": "fa12886f",
   "metadata": {},
   "outputs": [],
   "source": [
    "movie_df = pd.DataFrame(movie_list)"
   ]
  },
  {
   "cell_type": "code",
   "execution_count": 5,
   "id": "8cfde59c",
   "metadata": {},
   "outputs": [
    {
     "data": {
      "text/html": [
       "<div>\n",
       "<style scoped>\n",
       "    .dataframe tbody tr th:only-of-type {\n",
       "        vertical-align: middle;\n",
       "    }\n",
       "\n",
       "    .dataframe tbody tr th {\n",
       "        vertical-align: top;\n",
       "    }\n",
       "\n",
       "    .dataframe thead th {\n",
       "        text-align: right;\n",
       "    }\n",
       "</style>\n",
       "<table border=\"1\" class=\"dataframe\">\n",
       "  <thead>\n",
       "    <tr style=\"text-align: right;\">\n",
       "      <th></th>\n",
       "      <th>title</th>\n",
       "      <th>txt</th>\n",
       "      <th>duration</th>\n",
       "      <th>genre</th>\n",
       "    </tr>\n",
       "  </thead>\n",
       "  <tbody>\n",
       "    <tr>\n",
       "      <th>0</th>\n",
       "      <td>The Shawshank Redemption</td>\n",
       "      <td>Two imprisoned men bond over a number of years...</td>\n",
       "      <td>142</td>\n",
       "      <td>Drama</td>\n",
       "    </tr>\n",
       "    <tr>\n",
       "      <th>1</th>\n",
       "      <td>The Godfather</td>\n",
       "      <td>The aging patriarch of an organized crime dyna...</td>\n",
       "      <td>175</td>\n",
       "      <td>Crime, Drama</td>\n",
       "    </tr>\n",
       "    <tr>\n",
       "      <th>2</th>\n",
       "      <td>The Dark Knight</td>\n",
       "      <td>When the menace known as the Joker wreaks havo...</td>\n",
       "      <td>152</td>\n",
       "      <td>Action, Crime, Drama</td>\n",
       "    </tr>\n",
       "    <tr>\n",
       "      <th>3</th>\n",
       "      <td>The Lord of the Rings: The Return of the King</td>\n",
       "      <td>Gandalf and Aragorn lead the World of Men agai...</td>\n",
       "      <td>201</td>\n",
       "      <td>Action, Adventure, Drama</td>\n",
       "    </tr>\n",
       "    <tr>\n",
       "      <th>4</th>\n",
       "      <td>Schindler's List</td>\n",
       "      <td>In German-occupied Poland during World War II,...</td>\n",
       "      <td>195</td>\n",
       "      <td>Biography, Drama, History</td>\n",
       "    </tr>\n",
       "    <tr>\n",
       "      <th>...</th>\n",
       "      <td>...</td>\n",
       "      <td>...</td>\n",
       "      <td>...</td>\n",
       "      <td>...</td>\n",
       "    </tr>\n",
       "    <tr>\n",
       "      <th>995</th>\n",
       "      <td>Rebel Without a Cause</td>\n",
       "      <td>A rebellious young man with a troubled past co...</td>\n",
       "      <td>111</td>\n",
       "      <td>Drama</td>\n",
       "    </tr>\n",
       "    <tr>\n",
       "      <th>996</th>\n",
       "      <td>Sabrina</td>\n",
       "      <td>A playboy becomes interested in the daughter o...</td>\n",
       "      <td>113</td>\n",
       "      <td>Comedy, Drama, Romance</td>\n",
       "    </tr>\n",
       "    <tr>\n",
       "      <th>997</th>\n",
       "      <td>From Here to Eternity</td>\n",
       "      <td>At a U.S. Army base in 1941 Hawaii, a private ...</td>\n",
       "      <td>118</td>\n",
       "      <td>Drama, Romance, War</td>\n",
       "    </tr>\n",
       "    <tr>\n",
       "      <th>998</th>\n",
       "      <td>Snow White and the Seven Dwarfs</td>\n",
       "      <td>Exiled into the dangerous forest by her wicked...</td>\n",
       "      <td>83</td>\n",
       "      <td>Animation, Adventure, Family</td>\n",
       "    </tr>\n",
       "    <tr>\n",
       "      <th>999</th>\n",
       "      <td>The 39 Steps</td>\n",
       "      <td>A man in London tries to help a counter-espion...</td>\n",
       "      <td>86</td>\n",
       "      <td>Crime, Mystery, Thriller</td>\n",
       "    </tr>\n",
       "  </tbody>\n",
       "</table>\n",
       "<p>1000 rows × 4 columns</p>\n",
       "</div>"
      ],
      "text/plain": [
       "                                             title  \\\n",
       "0                         The Shawshank Redemption   \n",
       "1                                    The Godfather   \n",
       "2                                  The Dark Knight   \n",
       "3    The Lord of the Rings: The Return of the King   \n",
       "4                                 Schindler's List   \n",
       "..                                             ...   \n",
       "995                          Rebel Without a Cause   \n",
       "996                                        Sabrina   \n",
       "997                          From Here to Eternity   \n",
       "998                Snow White and the Seven Dwarfs   \n",
       "999                                   The 39 Steps   \n",
       "\n",
       "                                                   txt  duration  \\\n",
       "0    Two imprisoned men bond over a number of years...       142   \n",
       "1    The aging patriarch of an organized crime dyna...       175   \n",
       "2    When the menace known as the Joker wreaks havo...       152   \n",
       "3    Gandalf and Aragorn lead the World of Men agai...       201   \n",
       "4    In German-occupied Poland during World War II,...       195   \n",
       "..                                                 ...       ...   \n",
       "995  A rebellious young man with a troubled past co...       111   \n",
       "996  A playboy becomes interested in the daughter o...       113   \n",
       "997  At a U.S. Army base in 1941 Hawaii, a private ...       118   \n",
       "998  Exiled into the dangerous forest by her wicked...        83   \n",
       "999  A man in London tries to help a counter-espion...        86   \n",
       "\n",
       "                            genre  \n",
       "0                           Drama  \n",
       "1                    Crime, Drama  \n",
       "2            Action, Crime, Drama  \n",
       "3        Action, Adventure, Drama  \n",
       "4       Biography, Drama, History  \n",
       "..                            ...  \n",
       "995                         Drama  \n",
       "996        Comedy, Drama, Romance  \n",
       "997           Drama, Romance, War  \n",
       "998  Animation, Adventure, Family  \n",
       "999      Crime, Mystery, Thriller  \n",
       "\n",
       "[1000 rows x 4 columns]"
      ]
     },
     "execution_count": 5,
     "metadata": {},
     "output_type": "execute_result"
    }
   ],
   "source": [
    "movie_df"
   ]
  },
  {
   "cell_type": "code",
   "execution_count": 6,
   "id": "c4bfe4e2",
   "metadata": {},
   "outputs": [],
   "source": [
    "movie_df.to_csv('../raw_data/top1000movie_recommender.csv')"
   ]
  }
 ],
 "metadata": {
  "kernelspec": {
   "display_name": "Python 3 (ipykernel)",
   "language": "python",
   "name": "python3"
  },
  "language_info": {
   "codemirror_mode": {
    "name": "ipython",
    "version": 3
   },
   "file_extension": ".py",
   "mimetype": "text/x-python",
   "name": "python",
   "nbconvert_exporter": "python",
   "pygments_lexer": "ipython3",
   "version": "3.8.12"
  },
  "toc": {
   "base_numbering": 1,
   "nav_menu": {},
   "number_sections": true,
   "sideBar": true,
   "skip_h1_title": false,
   "title_cell": "Table of Contents",
   "title_sidebar": "Contents",
   "toc_cell": false,
   "toc_position": {},
   "toc_section_display": true,
   "toc_window_display": false
  }
 },
 "nbformat": 4,
 "nbformat_minor": 5
}
