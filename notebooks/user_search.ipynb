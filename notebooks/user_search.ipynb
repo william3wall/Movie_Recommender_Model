{
 "cells": [
  {
   "cell_type": "code",
   "execution_count": 1,
   "id": "69777a29",
   "metadata": {},
   "outputs": [],
   "source": [
    "import requests\n",
    "from bs4 import BeautifulSoup\n",
    "import numpy as np\n",
    "import pandas as pd\n",
    "# to get the search id for the movie for the URL\n",
    "import imdb"
   ]
  },
  {
   "cell_type": "code",
   "execution_count": 2,
   "id": "22bd65a6",
   "metadata": {},
   "outputs": [],
   "source": [
    "def USERS_movie(movie):\n",
    "    # creating instance of IMDb\n",
    "    ia = imdb.IMDb()\n",
    "    # searching the movie\n",
    "    search = ia.search_movie(movie)\n",
    "    return search[0].movieID"
   ]
  },
  {
   "cell_type": "code",
   "execution_count": 3,
   "id": "71288436",
   "metadata": {},
   "outputs": [
    {
     "data": {
      "text/plain": [
       "'1375666'"
      ]
     },
     "execution_count": 3,
     "metadata": {},
     "output_type": "execute_result"
    }
   ],
   "source": [
    "(USERS_movie('Inception')) #1375666"
   ]
  },
  {
   "cell_type": "code",
   "execution_count": 4,
   "id": "1a7c4484",
   "metadata": {},
   "outputs": [],
   "source": [
    "URL = \"https://www.imdb.com/title/tt\" + str(USERS_movie('Inception'))\n",
    "response = requests.get(URL, headers={\"Accept-Language\":\"en-US\"})\n",
    "soup = BeautifulSoup(response.content, \"html.parser\")"
   ]
  },
  {
   "cell_type": "code",
   "execution_count": 5,
   "id": "e17a758d",
   "metadata": {},
   "outputs": [],
   "source": [
    "# title = will be the users input\n",
    "title = 'User_title'\n",
    "text = soup.find(\"span\", class_=\"sc-16ede01-0 fMPjMP\").text\n",
    "genre = []\n",
    "for i in soup.find_all(\"li\", class_=\"ipc-inline-list__item ipc-chip__text\"):\n",
    "    genre.append(i.string)"
   ]
  },
  {
   "cell_type": "code",
   "execution_count": 6,
   "id": "6f5a12c6",
   "metadata": {},
   "outputs": [],
   "source": [
    "genre = \", \".join(genre)"
   ]
  },
  {
   "cell_type": "code",
   "execution_count": 7,
   "id": "c94cebed",
   "metadata": {},
   "outputs": [],
   "source": [
    "User_data = [{'Title':title, 'Text': text, 'Genre': genre}]"
   ]
  },
  {
   "cell_type": "code",
   "execution_count": 8,
   "id": "0e202488",
   "metadata": {},
   "outputs": [],
   "source": [
    "User_movie_df = pd.DataFrame(User_data)"
   ]
  },
  {
   "cell_type": "code",
   "execution_count": 9,
   "id": "4dc62298",
   "metadata": {},
   "outputs": [
    {
     "data": {
      "text/plain": [
       "str"
      ]
     },
     "execution_count": 9,
     "metadata": {},
     "output_type": "execute_result"
    }
   ],
   "source": [
    "type(text)"
   ]
  },
  {
   "cell_type": "code",
   "execution_count": 13,
   "id": "18c2f483",
   "metadata": {},
   "outputs": [
    {
     "ename": "ModuleNotFoundError",
     "evalue": "No module named 'User_input_scrapper'",
     "output_type": "error",
     "traceback": [
      "\u001b[0;31m---------------------------------------------------------------------------\u001b[0m",
      "\u001b[0;31mModuleNotFoundError\u001b[0m                       Traceback (most recent call last)",
      "Input \u001b[0;32mIn [13]\u001b[0m, in \u001b[0;36m<cell line: 1>\u001b[0;34m()\u001b[0m\n\u001b[0;32m----> 1\u001b[0m \u001b[38;5;28;01mfrom\u001b[39;00m \u001b[38;5;21;01mUser_input_scrapper\u001b[39;00m \u001b[38;5;28;01mimport\u001b[39;00m User_Input\n",
      "\u001b[0;31mModuleNotFoundError\u001b[0m: No module named 'User_input_scrapper'"
     ]
    }
   ],
   "source": []
  },
  {
   "cell_type": "code",
   "execution_count": 11,
   "id": "717b6b60",
   "metadata": {},
   "outputs": [
    {
     "data": {
      "text/plain": [
       "<img alt=\"Leonardo DiCaprio, Tom Berenger, Michael Caine, Lukas Haas, Marion Cotillard, Joseph Gordon-Levitt, Tom Hardy, Elliot Page, Ken Watanabe, and Dileep Rao in Inception (2010)\" class=\"ipc-image\" loading=\"eager\" sizes=\"50vw, (min-width: 480px) 34vw, (min-width: 600px) 26vw, (min-width: 1024px) 16vw, (min-width: 1280px) 16vw\" src=\"https://m.media-amazon.com/images/M/MV5BMjAxMzY3NjcxNF5BMl5BanBnXkFtZTcwNTI5OTM0Mw@@._V1_QL75_UX190_CR0,0,190,281_.jpg\" srcset=\"https://m.media-amazon.com/images/M/MV5BMjAxMzY3NjcxNF5BMl5BanBnXkFtZTcwNTI5OTM0Mw@@._V1_QL75_UX190_CR0,0,190,281_.jpg 190w, https://m.media-amazon.com/images/M/MV5BMjAxMzY3NjcxNF5BMl5BanBnXkFtZTcwNTI5OTM0Mw@@._V1_QL75_UX285_CR0,0,285,422_.jpg 285w, https://m.media-amazon.com/images/M/MV5BMjAxMzY3NjcxNF5BMl5BanBnXkFtZTcwNTI5OTM0Mw@@._V1_QL75_UX380_CR0,0,380,562_.jpg 380w\" width=\"190\"/>"
      ]
     },
     "execution_count": 11,
     "metadata": {},
     "output_type": "execute_result"
    }
   ],
   "source": [
    "soup.select('div img')[0]"
   ]
  },
  {
   "cell_type": "code",
   "execution_count": null,
   "id": "09f3bdce",
   "metadata": {},
   "outputs": [],
   "source": []
  }
 ],
 "metadata": {
  "kernelspec": {
   "display_name": "Python 3 (ipykernel)",
   "language": "python",
   "name": "python3"
  },
  "language_info": {
   "codemirror_mode": {
    "name": "ipython",
    "version": 3
   },
   "file_extension": ".py",
   "mimetype": "text/x-python",
   "name": "python",
   "nbconvert_exporter": "python",
   "pygments_lexer": "ipython3",
   "version": "3.8.12"
  },
  "toc": {
   "base_numbering": 1,
   "nav_menu": {},
   "number_sections": true,
   "sideBar": true,
   "skip_h1_title": false,
   "title_cell": "Table of Contents",
   "title_sidebar": "Contents",
   "toc_cell": false,
   "toc_position": {},
   "toc_section_display": true,
   "toc_window_display": false
  }
 },
 "nbformat": 4,
 "nbformat_minor": 5
}
