{
 "cells": [
  {
   "cell_type": "code",
   "execution_count": 17,
   "id": "69777a29",
   "metadata": {},
   "outputs": [],
   "source": [
    "import requests\n",
    "from bs4 import BeautifulSoup\n",
    "import numpy as np\n",
    "import pandas as pd\n",
    "# to get the search id for the movie for the URL\n",
    "import imdb"
   ]
  },
  {
   "cell_type": "code",
   "execution_count": 18,
   "id": "22bd65a6",
   "metadata": {},
   "outputs": [],
   "source": [
    "def USERS_movie(movie):\n",
    "    # creating instance of IMDb\n",
    "    ia = imdb.IMDb()\n",
    "    # searching the movie\n",
    "    search = ia.search_movie(movie)\n",
    "    return search[0].movieID"
   ]
  },
  {
   "cell_type": "code",
   "execution_count": 27,
   "id": "71288436",
   "metadata": {},
   "outputs": [
    {
     "data": {
      "text/plain": [
       "'1375666'"
      ]
     },
     "execution_count": 27,
     "metadata": {},
     "output_type": "execute_result"
    }
   ],
   "source": [
    "(USERS_movie('Inception')) #1375666"
   ]
  },
  {
   "cell_type": "code",
   "execution_count": 20,
   "id": "1a7c4484",
   "metadata": {},
   "outputs": [],
   "source": [
    "URL = \"https://www.imdb.com/title/tt\" + str(USERS_movie('Inception'))\n",
    "response = requests.get(URL, headers={\"Accept-Language\":\"en-US\"})\n",
    "soup = BeautifulSoup(response.content, \"html.parser\")"
   ]
  },
  {
   "cell_type": "code",
   "execution_count": 21,
   "id": "e17a758d",
   "metadata": {},
   "outputs": [],
   "source": [
    "# title = will be the users input\n",
    "title = 'User_title'\n",
    "text = soup.find(\"span\", class_=\"sc-16ede01-0 fMPjMP\").text\n",
    "genre = []\n",
    "for i in soup.find_all(\"li\", class_=\"ipc-inline-list__item ipc-chip__text\"):\n",
    "    genre.append(i.string)"
   ]
  },
  {
   "cell_type": "code",
   "execution_count": 22,
   "id": "6f5a12c6",
   "metadata": {},
   "outputs": [],
   "source": [
    "genre = \", \".join(genre)"
   ]
  },
  {
   "cell_type": "code",
   "execution_count": 23,
   "id": "c94cebed",
   "metadata": {},
   "outputs": [],
   "source": [
    "User_data = [{'Title':title, 'Text': text, 'Genre': genre}]"
   ]
  },
  {
   "cell_type": "code",
   "execution_count": 24,
   "id": "0e202488",
   "metadata": {},
   "outputs": [],
   "source": [
    "User_movie_df = pd.DataFrame(User_data)"
   ]
  },
  {
   "cell_type": "code",
   "execution_count": 25,
   "id": "4dc62298",
   "metadata": {},
   "outputs": [
    {
     "data": {
      "text/plain": [
       "str"
      ]
     },
     "execution_count": 25,
     "metadata": {},
     "output_type": "execute_result"
    }
   ],
   "source": [
    "type(text)"
   ]
  },
  {
   "cell_type": "code",
   "execution_count": 26,
   "id": "717b6b60",
   "metadata": {},
   "outputs": [
    {
     "data": {
      "text/plain": [
       "'A thief who steals corporate secrets through the use of dream-sharing technology is given the inverse task of planting an idea into the mind of a C.E.O., but his tragic past may doom the pro... Read all'"
      ]
     },
     "execution_count": 26,
     "metadata": {},
     "output_type": "execute_result"
    }
   ],
   "source": [
    "text"
   ]
  },
  {
   "cell_type": "code",
   "execution_count": null,
   "id": "1b716f45",
   "metadata": {},
   "outputs": [],
   "source": []
  }
 ],
 "metadata": {
  "kernelspec": {
   "display_name": "Python 3 (ipykernel)",
   "language": "python",
   "name": "python3"
  },
  "language_info": {
   "codemirror_mode": {
    "name": "ipython",
    "version": 3
   },
   "file_extension": ".py",
   "mimetype": "text/x-python",
   "name": "python",
   "nbconvert_exporter": "python",
   "pygments_lexer": "ipython3",
   "version": "3.8.12"
  },
  "toc": {
   "base_numbering": 1,
   "nav_menu": {},
   "number_sections": true,
   "sideBar": true,
   "skip_h1_title": false,
   "title_cell": "Table of Contents",
   "title_sidebar": "Contents",
   "toc_cell": false,
   "toc_position": {},
   "toc_section_display": true,
   "toc_window_display": false
  }
 },
 "nbformat": 4,
 "nbformat_minor": 5
}
