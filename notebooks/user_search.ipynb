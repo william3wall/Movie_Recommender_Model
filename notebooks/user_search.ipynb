{
 "cells": [
  {
   "cell_type": "code",
   "execution_count": 1,
   "id": "69777a29",
   "metadata": {},
   "outputs": [],
   "source": [
    "import requests\n",
    "from bs4 import BeautifulSoup\n",
    "import numpy as np\n",
    "import pandas as pd\n",
    "# to get the search id for the movie for the URL\n",
    "import imdb"
   ]
  },
  {
   "cell_type": "code",
   "execution_count": 2,
   "id": "22bd65a6",
   "metadata": {},
   "outputs": [],
   "source": [
    "def USERS_movie(movie):\n",
    "    # creating instance of IMDb\n",
    "    ia = imdb.IMDb()\n",
    "    # searching the movie\n",
    "    search = ia.search_movie(movie)\n",
    "    return search[0].movieID"
   ]
  },
  {
   "cell_type": "code",
   "execution_count": 3,
   "id": "71288436",
   "metadata": {},
   "outputs": [
    {
     "data": {
      "text/plain": [
       "'0435437'"
      ]
     },
     "execution_count": 3,
     "metadata": {},
     "output_type": "execute_result"
    }
   ],
   "source": [
    "(USERS_movie('Tarzan the wonder car'))"
   ]
  },
  {
   "cell_type": "code",
   "execution_count": 45,
   "id": "1a7c4484",
   "metadata": {},
   "outputs": [],
   "source": [
    "URL = \"https://www.imdb.com/title/tt\" + str(USERS_movie('Tarzan the wonder car'))\n",
    "response = requests.get(URL, headers={\"Accept-Language\":\"en-US\"})\n",
    "soup = BeautifulSoup(response.content, \"html.parser\")"
   ]
  },
  {
   "cell_type": "code",
   "execution_count": 63,
   "id": "e17a758d",
   "metadata": {},
   "outputs": [],
   "source": [
    "# title = will be the users input\n",
    "text = soup.find(\"span\", class_=\"sc-16ede01-0 fMPjMP\").string\n",
    "genre = []\n",
    "for i in soup.find_all(\"li\", class_=\"ipc-inline-list__item ipc-chip__text\"):\n",
    "    genre.append(i.string)"
   ]
  },
  {
   "cell_type": "code",
   "execution_count": 64,
   "id": "6f5a12c6",
   "metadata": {},
   "outputs": [],
   "source": [
    "genre = \", \".join(genre)"
   ]
  },
  {
   "cell_type": "code",
   "execution_count": 65,
   "id": "c94cebed",
   "metadata": {},
   "outputs": [],
   "source": [
    "User_data = [{'Text': text, 'Genre': genre}]"
   ]
  },
  {
   "cell_type": "code",
   "execution_count": 66,
   "id": "0e202488",
   "metadata": {},
   "outputs": [],
   "source": [
    "User_movie_df = pd.DataFrame(User_data)"
   ]
  },
  {
   "cell_type": "code",
   "execution_count": 67,
   "id": "206c35c0",
   "metadata": {},
   "outputs": [
    {
     "data": {
      "text/html": [
       "<div>\n",
       "<style scoped>\n",
       "    .dataframe tbody tr th:only-of-type {\n",
       "        vertical-align: middle;\n",
       "    }\n",
       "\n",
       "    .dataframe tbody tr th {\n",
       "        vertical-align: top;\n",
       "    }\n",
       "\n",
       "    .dataframe thead th {\n",
       "        text-align: right;\n",
       "    }\n",
       "</style>\n",
       "<table border=\"1\" class=\"dataframe\">\n",
       "  <thead>\n",
       "    <tr style=\"text-align: right;\">\n",
       "      <th></th>\n",
       "      <th>Text</th>\n",
       "      <th>Genre</th>\n",
       "    </tr>\n",
       "  </thead>\n",
       "  <tbody>\n",
       "    <tr>\n",
       "      <th>0</th>\n",
       "      <td>Raj rebuilds his dead father's car and names i...</td>\n",
       "      <td>Action, Fantasy, Thriller</td>\n",
       "    </tr>\n",
       "  </tbody>\n",
       "</table>\n",
       "</div>"
      ],
      "text/plain": [
       "                                                Text  \\\n",
       "0  Raj rebuilds his dead father's car and names i...   \n",
       "\n",
       "                       Genre  \n",
       "0  Action, Fantasy, Thriller  "
      ]
     },
     "execution_count": 67,
     "metadata": {},
     "output_type": "execute_result"
    }
   ],
   "source": [
    "User_movie_df"
   ]
  }
 ],
 "metadata": {
  "kernelspec": {
   "display_name": "Python 3 (ipykernel)",
   "language": "python",
   "name": "python3"
  },
  "language_info": {
   "codemirror_mode": {
    "name": "ipython",
    "version": 3
   },
   "file_extension": ".py",
   "mimetype": "text/x-python",
   "name": "python",
   "nbconvert_exporter": "python",
   "pygments_lexer": "ipython3",
   "version": "3.8.12"
  },
  "toc": {
   "base_numbering": 1,
   "nav_menu": {},
   "number_sections": true,
   "sideBar": true,
   "skip_h1_title": false,
   "title_cell": "Table of Contents",
   "title_sidebar": "Contents",
   "toc_cell": false,
   "toc_position": {},
   "toc_section_display": true,
   "toc_window_display": false
  }
 },
 "nbformat": 4,
 "nbformat_minor": 5
}
