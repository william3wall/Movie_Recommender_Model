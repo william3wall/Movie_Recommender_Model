{
 "cells": [
  {
   "cell_type": "code",
   "execution_count": 6,
   "id": "e46aa0fd",
   "metadata": {},
   "outputs": [],
   "source": [
    "import pandas as pd"
   ]
  },
  {
   "cell_type": "code",
   "execution_count": 10,
   "id": "c153e562",
   "metadata": {},
   "outputs": [],
   "source": [
    "import requests\n",
    "from bs4 import BeautifulSoup\n",
    "\n",
    "URL = 'https://www.imdb.com/search/title/?countries=us&title_type=feature&num_votes=10000,&sort=user_rating,desc&'\n",
    "\n",
    "movies = []\n",
    "\n",
    "for i in range(1,144):\n",
    "    if i == 1: \n",
    "        response = requests.get(URL + 'ref_=adv_prv', headers={\"Accept-Language\":\"en-US\"})\n",
    "        soup = BeautifulSoup(response.content, \"html.parser\")\n",
    "        \n",
    "    elif i > 1:\n",
    "        response = requests.get(URL +'start='+str(((i-1)*50)+1)+'&ref_=adv_prv' , headers={\"Accept-Language\":\"en-US\"})\n",
    "        soup = BeautifulSoup(response.content, \"html.parser\")\n",
    "        \n",
    "        \n",
    "        \n",
    "    for movie in soup.find_all(\"div\", class_=\"lister-item-content\"):\n",
    "        title = movie.find(\"h3\").find(\"a\").string\n",
    "        duration = int(movie.find(\"span\", class_=\"runtime\").string.strip(' min'))\n",
    "        genre = movie.find(\"span\", class_=\"genre\").string.strip(' min').lstrip('\\n')\n",
    "        text = movie.find_all(\"p\", class_=\"text-muted\")[1].text.lstrip('\\n')\n",
    "        movies.append({'title': title, 'genre': genre, 'duration': duration, 'text': text})\n"
   ]
  },
  {
   "cell_type": "code",
   "execution_count": 11,
   "id": "65b8b7a9",
   "metadata": {},
   "outputs": [
    {
     "data": {
      "text/plain": [
       "7150"
      ]
     },
     "execution_count": 11,
     "metadata": {},
     "output_type": "execute_result"
    }
   ],
   "source": [
    "len(movies)"
   ]
  },
  {
   "cell_type": "code",
   "execution_count": 12,
   "id": "61c6f65e",
   "metadata": {},
   "outputs": [],
   "source": [
    "movies_df = pd.DataFrame(movies)"
   ]
  },
  {
   "cell_type": "code",
   "execution_count": 13,
   "id": "70f0854f",
   "metadata": {},
   "outputs": [
    {
     "data": {
      "text/html": [
       "<div>\n",
       "<style scoped>\n",
       "    .dataframe tbody tr th:only-of-type {\n",
       "        vertical-align: middle;\n",
       "    }\n",
       "\n",
       "    .dataframe tbody tr th {\n",
       "        vertical-align: top;\n",
       "    }\n",
       "\n",
       "    .dataframe thead th {\n",
       "        text-align: right;\n",
       "    }\n",
       "</style>\n",
       "<table border=\"1\" class=\"dataframe\">\n",
       "  <thead>\n",
       "    <tr style=\"text-align: right;\">\n",
       "      <th></th>\n",
       "      <th>title</th>\n",
       "      <th>genre</th>\n",
       "      <th>duration</th>\n",
       "      <th>text</th>\n",
       "    </tr>\n",
       "  </thead>\n",
       "  <tbody>\n",
       "    <tr>\n",
       "      <th>88</th>\n",
       "      <td>North by Northwest</td>\n",
       "      <td>Action, Adventure, Mystery</td>\n",
       "      <td>136</td>\n",
       "      <td>A New York City advertising executive goes on ...</td>\n",
       "    </tr>\n",
       "    <tr>\n",
       "      <th>89</th>\n",
       "      <td>Vertigo</td>\n",
       "      <td>Mystery, Romance, Thriller</td>\n",
       "      <td>128</td>\n",
       "      <td>A former San Francisco police detective juggle...</td>\n",
       "    </tr>\n",
       "    <tr>\n",
       "      <th>90</th>\n",
       "      <td>Singin' in the Rain</td>\n",
       "      <td>Comedy, Musical, Romance</td>\n",
       "      <td>103</td>\n",
       "      <td>A silent film star falls for a chorus girl jus...</td>\n",
       "    </tr>\n",
       "    <tr>\n",
       "      <th>91</th>\n",
       "      <td>Double Indemnity</td>\n",
       "      <td>Crime, Drama, Film-Noir</td>\n",
       "      <td>107</td>\n",
       "      <td>A Los Angeles insurance representative lets an...</td>\n",
       "    </tr>\n",
       "    <tr>\n",
       "      <th>92</th>\n",
       "      <td>Citizen Kane</td>\n",
       "      <td>Drama, Mystery</td>\n",
       "      <td>119</td>\n",
       "      <td>Following the death of publishing tycoon Charl...</td>\n",
       "    </tr>\n",
       "    <tr>\n",
       "      <th>...</th>\n",
       "      <td>...</td>\n",
       "      <td>...</td>\n",
       "      <td>...</td>\n",
       "      <td>...</td>\n",
       "    </tr>\n",
       "    <tr>\n",
       "      <th>145</th>\n",
       "      <td>Rush</td>\n",
       "      <td>Action, Biography, Drama</td>\n",
       "      <td>123</td>\n",
       "      <td>The merciless 1970s rivalry between Formula On...</td>\n",
       "    </tr>\n",
       "    <tr>\n",
       "      <th>146</th>\n",
       "      <td>Ford v Ferrari</td>\n",
       "      <td>Action, Biography, Drama</td>\n",
       "      <td>152</td>\n",
       "      <td>American car designer Carroll Shelby and drive...</td>\n",
       "    </tr>\n",
       "    <tr>\n",
       "      <th>147</th>\n",
       "      <td>Spotlight</td>\n",
       "      <td>Biography, Crime, Drama</td>\n",
       "      <td>129</td>\n",
       "      <td>The true story of how the Boston Globe uncover...</td>\n",
       "    </tr>\n",
       "    <tr>\n",
       "      <th>148</th>\n",
       "      <td>The Help</td>\n",
       "      <td>Drama</td>\n",
       "      <td>146</td>\n",
       "      <td>An aspiring author during the civil rights mov...</td>\n",
       "    </tr>\n",
       "    <tr>\n",
       "      <th>149</th>\n",
       "      <td>Prisoners</td>\n",
       "      <td>Crime, Drama, Mystery</td>\n",
       "      <td>153</td>\n",
       "      <td>When Keller Dover's daughter and her friend go...</td>\n",
       "    </tr>\n",
       "  </tbody>\n",
       "</table>\n",
       "<p>62 rows × 4 columns</p>\n",
       "</div>"
      ],
      "text/plain": [
       "                   title                       genre  duration  \\\n",
       "88    North by Northwest  Action, Adventure, Mystery       136   \n",
       "89               Vertigo  Mystery, Romance, Thriller       128   \n",
       "90   Singin' in the Rain    Comedy, Musical, Romance       103   \n",
       "91      Double Indemnity     Crime, Drama, Film-Noir       107   \n",
       "92          Citizen Kane              Drama, Mystery       119   \n",
       "..                   ...                         ...       ...   \n",
       "145                 Rush    Action, Biography, Drama       123   \n",
       "146       Ford v Ferrari    Action, Biography, Drama       152   \n",
       "147            Spotlight     Biography, Crime, Drama       129   \n",
       "148             The Help                       Drama       146   \n",
       "149            Prisoners       Crime, Drama, Mystery       153   \n",
       "\n",
       "                                                  text  \n",
       "88   A New York City advertising executive goes on ...  \n",
       "89   A former San Francisco police detective juggle...  \n",
       "90   A silent film star falls for a chorus girl jus...  \n",
       "91   A Los Angeles insurance representative lets an...  \n",
       "92   Following the death of publishing tycoon Charl...  \n",
       "..                                                 ...  \n",
       "145  The merciless 1970s rivalry between Formula On...  \n",
       "146  American car designer Carroll Shelby and drive...  \n",
       "147  The true story of how the Boston Globe uncover...  \n",
       "148  An aspiring author during the civil rights mov...  \n",
       "149  When Keller Dover's daughter and her friend go...  \n",
       "\n",
       "[62 rows x 4 columns]"
      ]
     },
     "execution_count": 13,
     "metadata": {},
     "output_type": "execute_result"
    }
   ],
   "source": [
    "movies_df.iloc[88:150]"
   ]
  },
  {
   "cell_type": "code",
   "execution_count": 14,
   "id": "5e207784",
   "metadata": {},
   "outputs": [],
   "source": [
    "movies_df.to_csv('nico_movie_recommender.csv')"
   ]
  },
  {
   "cell_type": "code",
   "execution_count": null,
   "id": "fdae9a74",
   "metadata": {},
   "outputs": [],
   "source": []
  }
 ],
 "metadata": {
  "kernelspec": {
   "display_name": "Python 3 (ipykernel)",
   "language": "python",
   "name": "python3"
  },
  "language_info": {
   "codemirror_mode": {
    "name": "ipython",
    "version": 3
   },
   "file_extension": ".py",
   "mimetype": "text/x-python",
   "name": "python",
   "nbconvert_exporter": "python",
   "pygments_lexer": "ipython3",
   "version": "3.8.12"
  },
  "toc": {
   "base_numbering": 1,
   "nav_menu": {},
   "number_sections": true,
   "sideBar": true,
   "skip_h1_title": false,
   "title_cell": "Table of Contents",
   "title_sidebar": "Contents",
   "toc_cell": false,
   "toc_position": {},
   "toc_section_display": true,
   "toc_window_display": false
  }
 },
 "nbformat": 4,
 "nbformat_minor": 5
}
