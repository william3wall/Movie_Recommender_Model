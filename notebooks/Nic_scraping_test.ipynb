{
 "cells": [
  {
   "cell_type": "code",
   "execution_count": 61,
   "id": "c153e562",
   "metadata": {},
   "outputs": [
    {
     "name": "stdout",
     "output_type": "stream",
     "text": [
      "https://www.imdb.com/search/title/?countries=us&title_type=feature&num_votes=10000,&sort=user_rating,desc&start=51&ref_=adv_prv\n",
      "https://www.imdb.com/search/title/?countries=us&title_type=feature&num_votes=10000,&sort=user_rating,desc&start=101&ref_=adv_prv\n",
      "https://www.imdb.com/search/title/?countries=us&title_type=feature&num_votes=10000,&sort=user_rating,desc&start=151&ref_=adv_prv\n",
      "https://www.imdb.com/search/title/?countries=us&title_type=feature&num_votes=10000,&sort=user_rating,desc&start=201&ref_=adv_prv\n",
      "https://www.imdb.com/search/title/?countries=us&title_type=feature&num_votes=10000,&sort=user_rating,desc&start=251&ref_=adv_prv\n",
      "https://www.imdb.com/search/title/?countries=us&title_type=feature&num_votes=10000,&sort=user_rating,desc&start=301&ref_=adv_prv\n",
      "https://www.imdb.com/search/title/?countries=us&title_type=feature&num_votes=10000,&sort=user_rating,desc&start=351&ref_=adv_prv\n",
      "https://www.imdb.com/search/title/?countries=us&title_type=feature&num_votes=10000,&sort=user_rating,desc&start=401&ref_=adv_prv\n",
      "https://www.imdb.com/search/title/?countries=us&title_type=feature&num_votes=10000,&sort=user_rating,desc&start=451&ref_=adv_prv\n",
      "https://www.imdb.com/search/title/?countries=us&title_type=feature&num_votes=10000,&sort=user_rating,desc&start=501&ref_=adv_prv\n",
      "https://www.imdb.com/search/title/?countries=us&title_type=feature&num_votes=10000,&sort=user_rating,desc&start=551&ref_=adv_prv\n",
      "https://www.imdb.com/search/title/?countries=us&title_type=feature&num_votes=10000,&sort=user_rating,desc&start=601&ref_=adv_prv\n",
      "https://www.imdb.com/search/title/?countries=us&title_type=feature&num_votes=10000,&sort=user_rating,desc&start=651&ref_=adv_prv\n",
      "https://www.imdb.com/search/title/?countries=us&title_type=feature&num_votes=10000,&sort=user_rating,desc&start=701&ref_=adv_prv\n",
      "https://www.imdb.com/search/title/?countries=us&title_type=feature&num_votes=10000,&sort=user_rating,desc&start=751&ref_=adv_prv\n",
      "https://www.imdb.com/search/title/?countries=us&title_type=feature&num_votes=10000,&sort=user_rating,desc&start=801&ref_=adv_prv\n",
      "https://www.imdb.com/search/title/?countries=us&title_type=feature&num_votes=10000,&sort=user_rating,desc&start=851&ref_=adv_prv\n",
      "https://www.imdb.com/search/title/?countries=us&title_type=feature&num_votes=10000,&sort=user_rating,desc&start=901&ref_=adv_prv\n",
      "https://www.imdb.com/search/title/?countries=us&title_type=feature&num_votes=10000,&sort=user_rating,desc&start=951&ref_=adv_prv\n",
      "https://www.imdb.com/search/title/?countries=us&title_type=feature&num_votes=10000,&sort=user_rating,desc&start=1001&ref_=adv_prv\n",
      "https://www.imdb.com/search/title/?countries=us&title_type=feature&num_votes=10000,&sort=user_rating,desc&start=1051&ref_=adv_prv\n",
      "https://www.imdb.com/search/title/?countries=us&title_type=feature&num_votes=10000,&sort=user_rating,desc&start=1101&ref_=adv_prv\n",
      "https://www.imdb.com/search/title/?countries=us&title_type=feature&num_votes=10000,&sort=user_rating,desc&start=1151&ref_=adv_prv\n",
      "https://www.imdb.com/search/title/?countries=us&title_type=feature&num_votes=10000,&sort=user_rating,desc&start=1201&ref_=adv_prv\n",
      "https://www.imdb.com/search/title/?countries=us&title_type=feature&num_votes=10000,&sort=user_rating,desc&start=1251&ref_=adv_prv\n",
      "https://www.imdb.com/search/title/?countries=us&title_type=feature&num_votes=10000,&sort=user_rating,desc&start=1301&ref_=adv_prv\n",
      "https://www.imdb.com/search/title/?countries=us&title_type=feature&num_votes=10000,&sort=user_rating,desc&start=1351&ref_=adv_prv\n",
      "https://www.imdb.com/search/title/?countries=us&title_type=feature&num_votes=10000,&sort=user_rating,desc&start=1401&ref_=adv_prv\n",
      "https://www.imdb.com/search/title/?countries=us&title_type=feature&num_votes=10000,&sort=user_rating,desc&start=1451&ref_=adv_prv\n",
      "https://www.imdb.com/search/title/?countries=us&title_type=feature&num_votes=10000,&sort=user_rating,desc&start=1501&ref_=adv_prv\n",
      "https://www.imdb.com/search/title/?countries=us&title_type=feature&num_votes=10000,&sort=user_rating,desc&start=1551&ref_=adv_prv\n",
      "https://www.imdb.com/search/title/?countries=us&title_type=feature&num_votes=10000,&sort=user_rating,desc&start=1601&ref_=adv_prv\n",
      "https://www.imdb.com/search/title/?countries=us&title_type=feature&num_votes=10000,&sort=user_rating,desc&start=1651&ref_=adv_prv\n",
      "https://www.imdb.com/search/title/?countries=us&title_type=feature&num_votes=10000,&sort=user_rating,desc&start=1701&ref_=adv_prv\n",
      "https://www.imdb.com/search/title/?countries=us&title_type=feature&num_votes=10000,&sort=user_rating,desc&start=1751&ref_=adv_prv\n",
      "https://www.imdb.com/search/title/?countries=us&title_type=feature&num_votes=10000,&sort=user_rating,desc&start=1801&ref_=adv_prv\n",
      "https://www.imdb.com/search/title/?countries=us&title_type=feature&num_votes=10000,&sort=user_rating,desc&start=1851&ref_=adv_prv\n",
      "https://www.imdb.com/search/title/?countries=us&title_type=feature&num_votes=10000,&sort=user_rating,desc&start=1901&ref_=adv_prv\n",
      "https://www.imdb.com/search/title/?countries=us&title_type=feature&num_votes=10000,&sort=user_rating,desc&start=1951&ref_=adv_prv\n",
      "https://www.imdb.com/search/title/?countries=us&title_type=feature&num_votes=10000,&sort=user_rating,desc&start=2001&ref_=adv_prv\n",
      "https://www.imdb.com/search/title/?countries=us&title_type=feature&num_votes=10000,&sort=user_rating,desc&start=2051&ref_=adv_prv\n",
      "https://www.imdb.com/search/title/?countries=us&title_type=feature&num_votes=10000,&sort=user_rating,desc&start=2101&ref_=adv_prv\n",
      "https://www.imdb.com/search/title/?countries=us&title_type=feature&num_votes=10000,&sort=user_rating,desc&start=2151&ref_=adv_prv\n",
      "https://www.imdb.com/search/title/?countries=us&title_type=feature&num_votes=10000,&sort=user_rating,desc&start=2201&ref_=adv_prv\n",
      "https://www.imdb.com/search/title/?countries=us&title_type=feature&num_votes=10000,&sort=user_rating,desc&start=2251&ref_=adv_prv\n",
      "https://www.imdb.com/search/title/?countries=us&title_type=feature&num_votes=10000,&sort=user_rating,desc&start=2301&ref_=adv_prv\n",
      "https://www.imdb.com/search/title/?countries=us&title_type=feature&num_votes=10000,&sort=user_rating,desc&start=2351&ref_=adv_prv\n",
      "https://www.imdb.com/search/title/?countries=us&title_type=feature&num_votes=10000,&sort=user_rating,desc&start=2401&ref_=adv_prv\n",
      "https://www.imdb.com/search/title/?countries=us&title_type=feature&num_votes=10000,&sort=user_rating,desc&start=2451&ref_=adv_prv\n",
      "https://www.imdb.com/search/title/?countries=us&title_type=feature&num_votes=10000,&sort=user_rating,desc&start=2501&ref_=adv_prv\n",
      "https://www.imdb.com/search/title/?countries=us&title_type=feature&num_votes=10000,&sort=user_rating,desc&start=2551&ref_=adv_prv\n",
      "https://www.imdb.com/search/title/?countries=us&title_type=feature&num_votes=10000,&sort=user_rating,desc&start=2601&ref_=adv_prv\n",
      "https://www.imdb.com/search/title/?countries=us&title_type=feature&num_votes=10000,&sort=user_rating,desc&start=2651&ref_=adv_prv\n",
      "https://www.imdb.com/search/title/?countries=us&title_type=feature&num_votes=10000,&sort=user_rating,desc&start=2701&ref_=adv_prv\n",
      "https://www.imdb.com/search/title/?countries=us&title_type=feature&num_votes=10000,&sort=user_rating,desc&start=2751&ref_=adv_prv\n",
      "https://www.imdb.com/search/title/?countries=us&title_type=feature&num_votes=10000,&sort=user_rating,desc&start=2801&ref_=adv_prv\n",
      "https://www.imdb.com/search/title/?countries=us&title_type=feature&num_votes=10000,&sort=user_rating,desc&start=2851&ref_=adv_prv\n",
      "https://www.imdb.com/search/title/?countries=us&title_type=feature&num_votes=10000,&sort=user_rating,desc&start=2901&ref_=adv_prv\n",
      "https://www.imdb.com/search/title/?countries=us&title_type=feature&num_votes=10000,&sort=user_rating,desc&start=2951&ref_=adv_prv\n",
      "https://www.imdb.com/search/title/?countries=us&title_type=feature&num_votes=10000,&sort=user_rating,desc&start=3001&ref_=adv_prv\n",
      "https://www.imdb.com/search/title/?countries=us&title_type=feature&num_votes=10000,&sort=user_rating,desc&start=3051&ref_=adv_prv\n",
      "https://www.imdb.com/search/title/?countries=us&title_type=feature&num_votes=10000,&sort=user_rating,desc&start=3101&ref_=adv_prv\n",
      "https://www.imdb.com/search/title/?countries=us&title_type=feature&num_votes=10000,&sort=user_rating,desc&start=3151&ref_=adv_prv\n",
      "https://www.imdb.com/search/title/?countries=us&title_type=feature&num_votes=10000,&sort=user_rating,desc&start=3201&ref_=adv_prv\n"
     ]
    },
    {
     "name": "stdout",
     "output_type": "stream",
     "text": [
      "https://www.imdb.com/search/title/?countries=us&title_type=feature&num_votes=10000,&sort=user_rating,desc&start=3251&ref_=adv_prv\n",
      "https://www.imdb.com/search/title/?countries=us&title_type=feature&num_votes=10000,&sort=user_rating,desc&start=3301&ref_=adv_prv\n",
      "https://www.imdb.com/search/title/?countries=us&title_type=feature&num_votes=10000,&sort=user_rating,desc&start=3351&ref_=adv_prv\n",
      "https://www.imdb.com/search/title/?countries=us&title_type=feature&num_votes=10000,&sort=user_rating,desc&start=3401&ref_=adv_prv\n",
      "https://www.imdb.com/search/title/?countries=us&title_type=feature&num_votes=10000,&sort=user_rating,desc&start=3451&ref_=adv_prv\n",
      "https://www.imdb.com/search/title/?countries=us&title_type=feature&num_votes=10000,&sort=user_rating,desc&start=3501&ref_=adv_prv\n",
      "https://www.imdb.com/search/title/?countries=us&title_type=feature&num_votes=10000,&sort=user_rating,desc&start=3551&ref_=adv_prv\n",
      "https://www.imdb.com/search/title/?countries=us&title_type=feature&num_votes=10000,&sort=user_rating,desc&start=3601&ref_=adv_prv\n",
      "https://www.imdb.com/search/title/?countries=us&title_type=feature&num_votes=10000,&sort=user_rating,desc&start=3651&ref_=adv_prv\n",
      "https://www.imdb.com/search/title/?countries=us&title_type=feature&num_votes=10000,&sort=user_rating,desc&start=3701&ref_=adv_prv\n",
      "https://www.imdb.com/search/title/?countries=us&title_type=feature&num_votes=10000,&sort=user_rating,desc&start=3751&ref_=adv_prv\n",
      "https://www.imdb.com/search/title/?countries=us&title_type=feature&num_votes=10000,&sort=user_rating,desc&start=3801&ref_=adv_prv\n",
      "https://www.imdb.com/search/title/?countries=us&title_type=feature&num_votes=10000,&sort=user_rating,desc&start=3851&ref_=adv_prv\n",
      "https://www.imdb.com/search/title/?countries=us&title_type=feature&num_votes=10000,&sort=user_rating,desc&start=3901&ref_=adv_prv\n",
      "https://www.imdb.com/search/title/?countries=us&title_type=feature&num_votes=10000,&sort=user_rating,desc&start=3951&ref_=adv_prv\n",
      "https://www.imdb.com/search/title/?countries=us&title_type=feature&num_votes=10000,&sort=user_rating,desc&start=4001&ref_=adv_prv\n",
      "https://www.imdb.com/search/title/?countries=us&title_type=feature&num_votes=10000,&sort=user_rating,desc&start=4051&ref_=adv_prv\n",
      "https://www.imdb.com/search/title/?countries=us&title_type=feature&num_votes=10000,&sort=user_rating,desc&start=4101&ref_=adv_prv\n",
      "https://www.imdb.com/search/title/?countries=us&title_type=feature&num_votes=10000,&sort=user_rating,desc&start=4151&ref_=adv_prv\n",
      "https://www.imdb.com/search/title/?countries=us&title_type=feature&num_votes=10000,&sort=user_rating,desc&start=4201&ref_=adv_prv\n",
      "https://www.imdb.com/search/title/?countries=us&title_type=feature&num_votes=10000,&sort=user_rating,desc&start=4251&ref_=adv_prv\n",
      "https://www.imdb.com/search/title/?countries=us&title_type=feature&num_votes=10000,&sort=user_rating,desc&start=4301&ref_=adv_prv\n",
      "https://www.imdb.com/search/title/?countries=us&title_type=feature&num_votes=10000,&sort=user_rating,desc&start=4351&ref_=adv_prv\n",
      "https://www.imdb.com/search/title/?countries=us&title_type=feature&num_votes=10000,&sort=user_rating,desc&start=4401&ref_=adv_prv\n",
      "https://www.imdb.com/search/title/?countries=us&title_type=feature&num_votes=10000,&sort=user_rating,desc&start=4451&ref_=adv_prv\n",
      "https://www.imdb.com/search/title/?countries=us&title_type=feature&num_votes=10000,&sort=user_rating,desc&start=4501&ref_=adv_prv\n",
      "https://www.imdb.com/search/title/?countries=us&title_type=feature&num_votes=10000,&sort=user_rating,desc&start=4551&ref_=adv_prv\n",
      "https://www.imdb.com/search/title/?countries=us&title_type=feature&num_votes=10000,&sort=user_rating,desc&start=4601&ref_=adv_prv\n",
      "https://www.imdb.com/search/title/?countries=us&title_type=feature&num_votes=10000,&sort=user_rating,desc&start=4651&ref_=adv_prv\n",
      "https://www.imdb.com/search/title/?countries=us&title_type=feature&num_votes=10000,&sort=user_rating,desc&start=4701&ref_=adv_prv\n",
      "https://www.imdb.com/search/title/?countries=us&title_type=feature&num_votes=10000,&sort=user_rating,desc&start=4751&ref_=adv_prv\n",
      "https://www.imdb.com/search/title/?countries=us&title_type=feature&num_votes=10000,&sort=user_rating,desc&start=4801&ref_=adv_prv\n",
      "https://www.imdb.com/search/title/?countries=us&title_type=feature&num_votes=10000,&sort=user_rating,desc&start=4851&ref_=adv_prv\n",
      "https://www.imdb.com/search/title/?countries=us&title_type=feature&num_votes=10000,&sort=user_rating,desc&start=4901&ref_=adv_prv\n",
      "https://www.imdb.com/search/title/?countries=us&title_type=feature&num_votes=10000,&sort=user_rating,desc&start=4951&ref_=adv_prv\n",
      "https://www.imdb.com/search/title/?countries=us&title_type=feature&num_votes=10000,&sort=user_rating,desc&start=5001&ref_=adv_prv\n",
      "https://www.imdb.com/search/title/?countries=us&title_type=feature&num_votes=10000,&sort=user_rating,desc&start=5051&ref_=adv_prv\n",
      "https://www.imdb.com/search/title/?countries=us&title_type=feature&num_votes=10000,&sort=user_rating,desc&start=5101&ref_=adv_prv\n",
      "https://www.imdb.com/search/title/?countries=us&title_type=feature&num_votes=10000,&sort=user_rating,desc&start=5151&ref_=adv_prv\n",
      "https://www.imdb.com/search/title/?countries=us&title_type=feature&num_votes=10000,&sort=user_rating,desc&start=5201&ref_=adv_prv\n",
      "https://www.imdb.com/search/title/?countries=us&title_type=feature&num_votes=10000,&sort=user_rating,desc&start=5251&ref_=adv_prv\n",
      "https://www.imdb.com/search/title/?countries=us&title_type=feature&num_votes=10000,&sort=user_rating,desc&start=5301&ref_=adv_prv\n",
      "https://www.imdb.com/search/title/?countries=us&title_type=feature&num_votes=10000,&sort=user_rating,desc&start=5351&ref_=adv_prv\n",
      "https://www.imdb.com/search/title/?countries=us&title_type=feature&num_votes=10000,&sort=user_rating,desc&start=5401&ref_=adv_prv\n",
      "https://www.imdb.com/search/title/?countries=us&title_type=feature&num_votes=10000,&sort=user_rating,desc&start=5451&ref_=adv_prv\n",
      "https://www.imdb.com/search/title/?countries=us&title_type=feature&num_votes=10000,&sort=user_rating,desc&start=5501&ref_=adv_prv\n",
      "https://www.imdb.com/search/title/?countries=us&title_type=feature&num_votes=10000,&sort=user_rating,desc&start=5551&ref_=adv_prv\n",
      "https://www.imdb.com/search/title/?countries=us&title_type=feature&num_votes=10000,&sort=user_rating,desc&start=5601&ref_=adv_prv\n",
      "https://www.imdb.com/search/title/?countries=us&title_type=feature&num_votes=10000,&sort=user_rating,desc&start=5651&ref_=adv_prv\n",
      "https://www.imdb.com/search/title/?countries=us&title_type=feature&num_votes=10000,&sort=user_rating,desc&start=5701&ref_=adv_prv\n",
      "https://www.imdb.com/search/title/?countries=us&title_type=feature&num_votes=10000,&sort=user_rating,desc&start=5751&ref_=adv_prv\n",
      "https://www.imdb.com/search/title/?countries=us&title_type=feature&num_votes=10000,&sort=user_rating,desc&start=5801&ref_=adv_prv\n",
      "https://www.imdb.com/search/title/?countries=us&title_type=feature&num_votes=10000,&sort=user_rating,desc&start=5851&ref_=adv_prv\n",
      "https://www.imdb.com/search/title/?countries=us&title_type=feature&num_votes=10000,&sort=user_rating,desc&start=5901&ref_=adv_prv\n",
      "https://www.imdb.com/search/title/?countries=us&title_type=feature&num_votes=10000,&sort=user_rating,desc&start=5951&ref_=adv_prv\n",
      "https://www.imdb.com/search/title/?countries=us&title_type=feature&num_votes=10000,&sort=user_rating,desc&start=6001&ref_=adv_prv\n",
      "https://www.imdb.com/search/title/?countries=us&title_type=feature&num_votes=10000,&sort=user_rating,desc&start=6051&ref_=adv_prv\n",
      "https://www.imdb.com/search/title/?countries=us&title_type=feature&num_votes=10000,&sort=user_rating,desc&start=6101&ref_=adv_prv\n",
      "https://www.imdb.com/search/title/?countries=us&title_type=feature&num_votes=10000,&sort=user_rating,desc&start=6151&ref_=adv_prv\n",
      "https://www.imdb.com/search/title/?countries=us&title_type=feature&num_votes=10000,&sort=user_rating,desc&start=6201&ref_=adv_prv\n",
      "https://www.imdb.com/search/title/?countries=us&title_type=feature&num_votes=10000,&sort=user_rating,desc&start=6251&ref_=adv_prv\n",
      "https://www.imdb.com/search/title/?countries=us&title_type=feature&num_votes=10000,&sort=user_rating,desc&start=6301&ref_=adv_prv\n",
      "https://www.imdb.com/search/title/?countries=us&title_type=feature&num_votes=10000,&sort=user_rating,desc&start=6351&ref_=adv_prv\n",
      "https://www.imdb.com/search/title/?countries=us&title_type=feature&num_votes=10000,&sort=user_rating,desc&start=6401&ref_=adv_prv\n"
     ]
    },
    {
     "name": "stdout",
     "output_type": "stream",
     "text": [
      "https://www.imdb.com/search/title/?countries=us&title_type=feature&num_votes=10000,&sort=user_rating,desc&start=6451&ref_=adv_prv\n",
      "https://www.imdb.com/search/title/?countries=us&title_type=feature&num_votes=10000,&sort=user_rating,desc&start=6501&ref_=adv_prv\n",
      "https://www.imdb.com/search/title/?countries=us&title_type=feature&num_votes=10000,&sort=user_rating,desc&start=6551&ref_=adv_prv\n",
      "https://www.imdb.com/search/title/?countries=us&title_type=feature&num_votes=10000,&sort=user_rating,desc&start=6601&ref_=adv_prv\n",
      "https://www.imdb.com/search/title/?countries=us&title_type=feature&num_votes=10000,&sort=user_rating,desc&start=6651&ref_=adv_prv\n",
      "https://www.imdb.com/search/title/?countries=us&title_type=feature&num_votes=10000,&sort=user_rating,desc&start=6701&ref_=adv_prv\n",
      "https://www.imdb.com/search/title/?countries=us&title_type=feature&num_votes=10000,&sort=user_rating,desc&start=6751&ref_=adv_prv\n",
      "https://www.imdb.com/search/title/?countries=us&title_type=feature&num_votes=10000,&sort=user_rating,desc&start=6801&ref_=adv_prv\n",
      "https://www.imdb.com/search/title/?countries=us&title_type=feature&num_votes=10000,&sort=user_rating,desc&start=6851&ref_=adv_prv\n",
      "https://www.imdb.com/search/title/?countries=us&title_type=feature&num_votes=10000,&sort=user_rating,desc&start=6901&ref_=adv_prv\n",
      "https://www.imdb.com/search/title/?countries=us&title_type=feature&num_votes=10000,&sort=user_rating,desc&start=6951&ref_=adv_prv\n",
      "https://www.imdb.com/search/title/?countries=us&title_type=feature&num_votes=10000,&sort=user_rating,desc&start=7001&ref_=adv_prv\n",
      "https://www.imdb.com/search/title/?countries=us&title_type=feature&num_votes=10000,&sort=user_rating,desc&start=7051&ref_=adv_prv\n",
      "https://www.imdb.com/search/title/?countries=us&title_type=feature&num_votes=10000,&sort=user_rating,desc&start=7101&ref_=adv_prv\n",
      "[{'title': 'The Shawshank Redemption', 'genre': 'Drama', 'duration': 142, 'text': 'Two imprisoned men bond over a number of years, finding solace and eventual redemption through acts of common decency.'}, {'title': 'The Godfather', 'genre': 'Crime, Drama', 'duration': 175, 'text': 'The aging patriarch of an organized crime dynasty in postwar New York City transfers control of his clandestine empire to his reluctant youngest son.'}]\n"
     ]
    }
   ],
   "source": [
    "import requests\n",
    "from bs4 import BeautifulSoup\n",
    "\n",
    "URL = 'https://www.imdb.com/search/title/?countries=us&title_type=feature&num_votes=10000,&sort=user_rating,desc&'\n",
    "\n",
    "movies = []\n",
    "\n",
    "for i in range(1,144):\n",
    "    if i == 1: \n",
    "        response = requests.get(URL + 'ref_=adv_prv', headers={\"Accept-Language\":\"en-US\"})\n",
    "        soup = BeautifulSoup(response.content, \"html.parser\")\n",
    "        \n",
    "    elif i > 1:\n",
    "        print(URL +'start='+str(((i-1)*50)+1)+'&ref_=adv_prv')\n",
    "        response = requests.get(URL +'start='+str(((i-1)*50)+1)+'&ref_=adv_prv' , headers={\"Accept-Language\":\"en-US\"})\n",
    "        soup = BeautifulSoup(response.content, \"html.parser\")\n",
    "        \n",
    "        \n",
    "        \n",
    "    for movie in soup.find_all(\"div\", class_=\"lister-item-content\"):\n",
    "        title = movie.find(\"h3\").find(\"a\").string\n",
    "        duration = int(movie.find(\"span\", class_=\"runtime\").string.strip(' min'))\n",
    "        genre = movie.find(\"span\", class_=\"genre\").string.strip(' min').lstrip('\\n')\n",
    "        text = movie.find_all(\"p\", class_=\"text-muted\")[1].text.lstrip('\\n')\n",
    "        movies.append({'title': title, 'genre': genre, 'duration': duration, 'text': text})\n",
    "\n",
    "print(movies[0:2])"
   ]
  },
  {
   "cell_type": "code",
   "execution_count": 53,
   "id": "65b8b7a9",
   "metadata": {},
   "outputs": [
    {
     "data": {
      "text/plain": [
       "7150"
      ]
     },
     "execution_count": 53,
     "metadata": {},
     "output_type": "execute_result"
    }
   ],
   "source": [
    "len(movies)"
   ]
  },
  {
   "cell_type": "code",
   "execution_count": 59,
   "id": "c5ed3bff",
   "metadata": {},
   "outputs": [
    {
     "data": {
      "text/plain": [
       "{'title': 'Shutter Island', 'genre': 'Mystery, Thriller'}"
      ]
     },
     "execution_count": 59,
     "metadata": {},
     "output_type": "execute_result"
    }
   ],
   "source": [
    "movies[100]"
   ]
  },
  {
   "cell_type": "code",
   "execution_count": 1,
   "id": "61c6f65e",
   "metadata": {},
   "outputs": [
    {
     "ename": "NameError",
     "evalue": "name 'fdd' is not defined",
     "output_type": "error",
     "traceback": [
      "\u001b[0;31m---------------------------------------------------------------------------\u001b[0m",
      "\u001b[0;31mNameError\u001b[0m                                 Traceback (most recent call last)",
      "\u001b[0;32m/var/folders/jf/92jbq4zd26lgh7n641k6vd9w0000gn/T/ipykernel_8996/4110611933.py\u001b[0m in \u001b[0;36m<module>\u001b[0;34m\u001b[0m\n\u001b[0;32m----> 1\u001b[0;31m \u001b[0mfdd\u001b[0m\u001b[0;34m\u001b[0m\u001b[0;34m\u001b[0m\u001b[0m\n\u001b[0m",
      "\u001b[0;31mNameError\u001b[0m: name 'fdd' is not defined"
     ]
    }
   ],
   "source": [
    "fdd\n"
   ]
  },
  {
   "cell_type": "code",
   "execution_count": null,
   "id": "70f0854f",
   "metadata": {},
   "outputs": [],
   "source": []
  }
 ],
 "metadata": {
  "kernelspec": {
   "display_name": "Python 3 (ipykernel)",
   "language": "python",
   "name": "python3"
  },
  "language_info": {
   "codemirror_mode": {
    "name": "ipython",
    "version": 3
   },
   "file_extension": ".py",
   "mimetype": "text/x-python",
   "name": "python",
   "nbconvert_exporter": "python",
   "pygments_lexer": "ipython3",
   "version": "3.8.12"
  },
  "toc": {
   "base_numbering": 1,
   "nav_menu": {},
   "number_sections": true,
   "sideBar": true,
   "skip_h1_title": false,
   "title_cell": "Table of Contents",
   "title_sidebar": "Contents",
   "toc_cell": false,
   "toc_position": {},
   "toc_section_display": true,
   "toc_window_display": false
  }
 },
 "nbformat": 4,
 "nbformat_minor": 5
}
