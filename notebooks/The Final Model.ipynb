{
 "cells": [
  {
   "cell_type": "code",
   "execution_count": 17,
   "id": "b15d9b82",
   "metadata": {},
   "outputs": [],
   "source": [
    "import pandas as pd\n",
    "import numpy as np\n",
    "\n",
    "from sentence_transformers import SentenceTransformer, util"
   ]
  },
  {
   "cell_type": "code",
   "execution_count": 18,
   "id": "4f38d9ce",
   "metadata": {
    "scrolled": true
   },
   "outputs": [
    {
     "data": {
      "text/html": [
       "<div>\n",
       "<style scoped>\n",
       "    .dataframe tbody tr th:only-of-type {\n",
       "        vertical-align: middle;\n",
       "    }\n",
       "\n",
       "    .dataframe tbody tr th {\n",
       "        vertical-align: top;\n",
       "    }\n",
       "\n",
       "    .dataframe thead th {\n",
       "        text-align: right;\n",
       "    }\n",
       "</style>\n",
       "<table border=\"1\" class=\"dataframe\">\n",
       "  <thead>\n",
       "    <tr style=\"text-align: right;\">\n",
       "      <th></th>\n",
       "      <th>title</th>\n",
       "      <th>genre</th>\n",
       "      <th>duration</th>\n",
       "      <th>text</th>\n",
       "    </tr>\n",
       "  </thead>\n",
       "  <tbody>\n",
       "    <tr>\n",
       "      <th>0</th>\n",
       "      <td>The Shawshank Redemption</td>\n",
       "      <td>Drama</td>\n",
       "      <td>142</td>\n",
       "      <td>Two imprisoned men bond over a number of years...</td>\n",
       "    </tr>\n",
       "    <tr>\n",
       "      <th>1</th>\n",
       "      <td>The Godfather</td>\n",
       "      <td>Crime, Drama</td>\n",
       "      <td>175</td>\n",
       "      <td>The aging patriarch of an organized crime dyna...</td>\n",
       "    </tr>\n",
       "    <tr>\n",
       "      <th>2</th>\n",
       "      <td>The Dark Knight</td>\n",
       "      <td>Action, Crime, Drama</td>\n",
       "      <td>152</td>\n",
       "      <td>When the menace known as the Joker wreaks havo...</td>\n",
       "    </tr>\n",
       "    <tr>\n",
       "      <th>3</th>\n",
       "      <td>The Lord of the Rings: The Return of the King</td>\n",
       "      <td>Action, Adventure, Drama</td>\n",
       "      <td>201</td>\n",
       "      <td>Gandalf and Aragorn lead the World of Men agai...</td>\n",
       "    </tr>\n",
       "    <tr>\n",
       "      <th>4</th>\n",
       "      <td>Schindler's List</td>\n",
       "      <td>Biography, Drama, History</td>\n",
       "      <td>195</td>\n",
       "      <td>In German-occupied Poland during World War II,...</td>\n",
       "    </tr>\n",
       "    <tr>\n",
       "      <th>...</th>\n",
       "      <td>...</td>\n",
       "      <td>...</td>\n",
       "      <td>...</td>\n",
       "      <td>...</td>\n",
       "    </tr>\n",
       "    <tr>\n",
       "      <th>7145</th>\n",
       "      <td>Monster a Go-Go</td>\n",
       "      <td>Horror, Sci-F</td>\n",
       "      <td>68</td>\n",
       "      <td>A space capsule crash-lands on Earth, and the ...</td>\n",
       "    </tr>\n",
       "    <tr>\n",
       "      <th>7146</th>\n",
       "      <td>Pledge This!</td>\n",
       "      <td>Comedy</td>\n",
       "      <td>91</td>\n",
       "      <td>At South Beach University, a beautiful sororit...</td>\n",
       "    </tr>\n",
       "    <tr>\n",
       "      <th>7147</th>\n",
       "      <td>Manos: The Hands of Fate</td>\n",
       "      <td>Horror</td>\n",
       "      <td>70</td>\n",
       "      <td>A family gets lost on the road and stumbles up...</td>\n",
       "    </tr>\n",
       "    <tr>\n",
       "      <th>7148</th>\n",
       "      <td>Superbabies: Baby Geniuses 2</td>\n",
       "      <td>Comedy, Family, Sci-F</td>\n",
       "      <td>88</td>\n",
       "      <td>A group of smart-talking toddlers find themsel...</td>\n",
       "    </tr>\n",
       "    <tr>\n",
       "      <th>7149</th>\n",
       "      <td>Kirk Cameron's Saving Christmas</td>\n",
       "      <td>Comedy, Family</td>\n",
       "      <td>79</td>\n",
       "      <td>His annual Christmas party faltering thanks to...</td>\n",
       "    </tr>\n",
       "  </tbody>\n",
       "</table>\n",
       "<p>7150 rows × 4 columns</p>\n",
       "</div>"
      ],
      "text/plain": [
       "                                              title  \\\n",
       "0                          The Shawshank Redemption   \n",
       "1                                     The Godfather   \n",
       "2                                   The Dark Knight   \n",
       "3     The Lord of the Rings: The Return of the King   \n",
       "4                                  Schindler's List   \n",
       "...                                             ...   \n",
       "7145                                Monster a Go-Go   \n",
       "7146                                   Pledge This!   \n",
       "7147                       Manos: The Hands of Fate   \n",
       "7148                   Superbabies: Baby Geniuses 2   \n",
       "7149                Kirk Cameron's Saving Christmas   \n",
       "\n",
       "                          genre  duration  \\\n",
       "0                         Drama       142   \n",
       "1                  Crime, Drama       175   \n",
       "2          Action, Crime, Drama       152   \n",
       "3      Action, Adventure, Drama       201   \n",
       "4     Biography, Drama, History       195   \n",
       "...                         ...       ...   \n",
       "7145              Horror, Sci-F        68   \n",
       "7146                     Comedy        91   \n",
       "7147                     Horror        70   \n",
       "7148      Comedy, Family, Sci-F        88   \n",
       "7149             Comedy, Family        79   \n",
       "\n",
       "                                                   text  \n",
       "0     Two imprisoned men bond over a number of years...  \n",
       "1     The aging patriarch of an organized crime dyna...  \n",
       "2     When the menace known as the Joker wreaks havo...  \n",
       "3     Gandalf and Aragorn lead the World of Men agai...  \n",
       "4     In German-occupied Poland during World War II,...  \n",
       "...                                                 ...  \n",
       "7145  A space capsule crash-lands on Earth, and the ...  \n",
       "7146  At South Beach University, a beautiful sororit...  \n",
       "7147  A family gets lost on the road and stumbles up...  \n",
       "7148  A group of smart-talking toddlers find themsel...  \n",
       "7149  His annual Christmas party faltering thanks to...  \n",
       "\n",
       "[7150 rows x 4 columns]"
      ]
     },
     "execution_count": 18,
     "metadata": {},
     "output_type": "execute_result"
    }
   ],
   "source": [
    "df = pd.read_csv('nico_movie_recommender.csv', index_col = 'Unnamed: 0')\n",
    "df"
   ]
  },
  {
   "cell_type": "code",
   "execution_count": 19,
   "id": "e2657494",
   "metadata": {},
   "outputs": [],
   "source": [
    "def get_data(file_path):\n",
    "    df = pd.read_csv(file_path, index_col = 'Unnamed: 0')\n",
    "    return df"
   ]
  },
  {
   "cell_type": "code",
   "execution_count": 20,
   "id": "7f3f984b",
   "metadata": {},
   "outputs": [],
   "source": [
    "# Here we embed the descriptions of the movies --> shape (7150, 384)\n",
    "# No matter the len of the texts it will be embeded as 384\n",
    "\n",
    "def embed_sentences(df):\n",
    "    sentences = np.array(df['text'])\n",
    "    \n",
    "    model = SentenceTransformer('sentence-transformers/all-MiniLM-L6-v2')\n",
    "    embedded_sentences = model.encode(sentences, convert_to_numpy = True)\n",
    "    print(len(embedded_sentences))\n",
    "    return embedded_sentences"
   ]
  },
  {
   "cell_type": "code",
   "execution_count": 21,
   "id": "627e6f85",
   "metadata": {},
   "outputs": [],
   "source": [
    "# Here we create a list of titles so that we can zip it with the sentences maintaing the movies ID with the description\n",
    "\n",
    "def get_embbedings_dict(df, embedded_sentences):\n",
    "    \n",
    "    titles = df['title'].to_list()\n",
    "    \n",
    "    title_embedding_dict = {}\n",
    "    \n",
    "    for key, value in zip(titles, embedded_sentences):\n",
    "        title_embedding_dict[key] = value\n",
    "    return title_embedding_dict"
   ]
  },
  {
   "cell_type": "code",
   "execution_count": 22,
   "id": "348acfb5",
   "metadata": {},
   "outputs": [],
   "source": [
    "# Here we input the new movies text, df, and our embedded sentences. We embed the new movies text. Fine cosine simularity\n",
    "# between new_move/new_text embedded to a list of our df embedded texts\n",
    "\n",
    "def get_3_most_similar_movies(new_movie_text, df, embedded_sentences):\n",
    "    title_embedded_dict = get_embbedings_dict(df, embedded_sentences)\n",
    "    \n",
    "    model = SentenceTransformer('sentence-transformers/all-MiniLM-L6-v2')\n",
    "    new_movie_text_embedded = model.encode(new_movie_text, convert_to_numpy=True)\n",
    "    \n",
    "    \n",
    "    arg_cos_sim = np.argsort(util.pytorch_cos_sim(new_movie_text_embedded, list(title_embedded_dict.values())))\n",
    "    \n",
    "    # This is to aviod outputing the Users movie of choice\n",
    "    A = list(title_embedding_dict.values())[arg_cos_sim[0][-1]].round(4)\n",
    "    B = new_movie_text_embedded.round(4)\n",
    "    \n",
    "    if np.array_equal(A, B) == True:\n",
    "        first_arg_most_similar = arg_cos_sim[0][-2]\n",
    "        second_arg_most_similar = arg_cos_sim[0][-3]\n",
    "        third_arg_most_similar = arg_cos_sim[0][-4]\n",
    "    else:\n",
    "        first_arg_most_similar = arg_cos_sim[0][-1]\n",
    "        second_arg_most_similar = arg_cos_sim[0][-2]\n",
    "        third_arg_most_similar = arg_cos_sim[0][-3]\n",
    "        \n",
    "    #A list of keys indexed with the arg_cos_sim tensor position\n",
    "    first_movie_most_sim = list(title_embedding_dict.keys())[first_arg_most_similar] \n",
    "    second_movie_most_sim = list(title_embedding_dict.keys())[second_arg_most_similar]\n",
    "    third_movie_most_sim = list(title_embedding_dict.keys())[third_arg_most_similar]\n",
    "    \n",
    "    return first_movie_most_sim, second_movie_most_sim, third_movie_most_sim"
   ]
  },
  {
   "cell_type": "code",
   "execution_count": 23,
   "id": "899ae11e",
   "metadata": {},
   "outputs": [
    {
     "name": "stdout",
     "output_type": "stream",
     "text": [
      "7150\n"
     ]
    }
   ],
   "source": [
    "embedded_sentences = embed_sentences(df)"
   ]
  },
  {
   "cell_type": "code",
   "execution_count": 24,
   "id": "0ed2f71a",
   "metadata": {},
   "outputs": [
    {
     "data": {
      "text/plain": [
       "array([[-0.06326336,  0.04146251, -0.04707528, ..., -0.03055873,\n",
       "        -0.01641737, -0.01581548],\n",
       "       [ 0.02928159, -0.02202932, -0.04759281, ..., -0.01140113,\n",
       "         0.02967963, -0.08190241],\n",
       "       [ 0.01888789,  0.05393051, -0.07068749, ...,  0.07443296,\n",
       "         0.05758369, -0.01486043],\n",
       "       ...,\n",
       "       [-0.05408384,  0.03755486, -0.06260994, ..., -0.02542926,\n",
       "        -0.01030796, -0.00706608],\n",
       "       [-0.07651567, -0.02488332, -0.01685206, ...,  0.13467704,\n",
       "         0.0121746 ,  0.01384022],\n",
       "       [-0.00628567,  0.05565746,  0.04748098, ...,  0.01046593,\n",
       "         0.02671084, -0.01874348]], dtype=float32)"
      ]
     },
     "execution_count": 24,
     "metadata": {},
     "output_type": "execute_result"
    }
   ],
   "source": [
    "embedded_sentences"
   ]
  },
  {
   "cell_type": "code",
   "execution_count": 25,
   "id": "4e3a3ffc",
   "metadata": {},
   "outputs": [],
   "source": [
    "title_embedding_dict = get_embbedings_dict(df, embedded_sentences) # The length of this goes to 7150 --> 6932 (we are some how losing 228 movies with this)"
   ]
  },
  {
   "cell_type": "code",
   "execution_count": 33,
   "id": "6466b5d8",
   "metadata": {},
   "outputs": [
    {
     "data": {
      "text/plain": [
       "6932"
      ]
     },
     "execution_count": 33,
     "metadata": {},
     "output_type": "execute_result"
    }
   ],
   "source": [
    "len(title_embedding_dict)"
   ]
  },
  {
   "cell_type": "code",
   "execution_count": 11,
   "id": "6b20cae0",
   "metadata": {},
   "outputs": [
    {
     "data": {
      "text/plain": [
       "7150"
      ]
     },
     "execution_count": 11,
     "metadata": {},
     "output_type": "execute_result"
    }
   ],
   "source": [
    "len(embedded_sentences)\n",
    "len(df['title'].to_list())"
   ]
  },
  {
   "cell_type": "code",
   "execution_count": 12,
   "id": "c34a2290",
   "metadata": {},
   "outputs": [
    {
     "data": {
      "text/plain": [
       "'An insane American general orders a bombing attack on the Soviet Union, triggering a path to nuclear holocaust that a war room full of politicians and generals frantically tries to stop.'"
      ]
     },
     "execution_count": 12,
     "metadata": {},
     "output_type": "execute_result"
    }
   ],
   "source": [
    "df['text'][60]"
   ]
  },
  {
   "cell_type": "code",
   "execution_count": 40,
   "id": "fc4a5e51",
   "metadata": {
    "scrolled": true
   },
   "outputs": [
    {
     "name": "stdout",
     "output_type": "stream",
     "text": [
      "384\n",
      "6932\n"
     ]
    },
    {
     "data": {
      "text/plain": [
       "('Catch-22', 'Unthinkable', 'Seven Days in May')"
      ]
     },
     "execution_count": 40,
     "metadata": {},
     "output_type": "execute_result"
    }
   ],
   "source": [
    "get_3_most_similar_movies(\"An insane American general orders a bombing attack on the Soviet Union, triggering a path to nuclear holocaust that a war room full of politicians and generals frantically tries to stop.\", df, embedded_sentences)"
   ]
  },
  {
   "cell_type": "markdown",
   "id": "a430c0d2",
   "metadata": {},
   "source": [
    "- Webscrape the movies and the description\n",
    "- Webscrape the Users movie and description from input on streamlit\n",
    "- Pass it through our pipeline, sentence_transformer\n",
    "    - This will clean ---> vectorize ----> encode each Movie description.\n",
    "    - Will call User_scrapers input from stremlit\n",
    "- streamlit framework pushed to herouku to be live"
   ]
  },
  {
   "cell_type": "code",
   "execution_count": 40,
   "id": "7a508e4a",
   "metadata": {},
   "outputs": [],
   "source": [
    "title_embedding_dict = {}\n",
    "titles = df['title'].to_list()\n",
    "\n",
    "for key, value in zip(titles, embedded_sentences):\n",
    "    title_embedding_dict[key] = value"
   ]
  },
  {
   "cell_type": "code",
   "execution_count": 41,
   "id": "4b4bfed9",
   "metadata": {},
   "outputs": [
    {
     "data": {
      "text/plain": [
       "6932"
      ]
     },
     "execution_count": 41,
     "metadata": {},
     "output_type": "execute_result"
    }
   ],
   "source": [
    "len(title_embedding_dict)"
   ]
  },
  {
   "cell_type": "code",
   "execution_count": 46,
   "id": "04d8ad62",
   "metadata": {},
   "outputs": [
    {
     "name": "stdout",
     "output_type": "stream",
     "text": [
      "7150\n"
     ]
    },
    {
     "data": {
      "text/plain": [
       "7150"
      ]
     },
     "execution_count": 46,
     "metadata": {},
     "output_type": "execute_result"
    }
   ],
   "source": [
    "print(len(embedded_sentences))\n",
    "\n",
    "len(list(zip(titles, embedded_sentences)))"
   ]
  },
  {
   "cell_type": "code",
   "execution_count": null,
   "id": "8ab91783",
   "metadata": {},
   "outputs": [],
   "source": []
  }
 ],
 "metadata": {
  "kernelspec": {
   "display_name": "Python 3 (ipykernel)",
   "language": "python",
   "name": "python3"
  },
  "language_info": {
   "codemirror_mode": {
    "name": "ipython",
    "version": 3
   },
   "file_extension": ".py",
   "mimetype": "text/x-python",
   "name": "python",
   "nbconvert_exporter": "python",
   "pygments_lexer": "ipython3",
   "version": "3.8.12"
  },
  "toc": {
   "base_numbering": 1,
   "nav_menu": {},
   "number_sections": true,
   "sideBar": true,
   "skip_h1_title": false,
   "title_cell": "Table of Contents",
   "title_sidebar": "Contents",
   "toc_cell": false,
   "toc_position": {},
   "toc_section_display": true,
   "toc_window_display": false
  }
 },
 "nbformat": 4,
 "nbformat_minor": 5
}
