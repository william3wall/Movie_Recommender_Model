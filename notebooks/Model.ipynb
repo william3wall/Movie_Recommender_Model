{
 "cells": [
  {
   "cell_type": "code",
   "execution_count": 2,
   "id": "a3ba6ffc",
   "metadata": {},
   "outputs": [],
   "source": [
    "import pandas as pd\n",
    "import numpy as np\n",
    "from sklearn.metrics.pairwise import cosine_similarity"
   ]
  },
  {
   "cell_type": "code",
   "execution_count": 4,
   "id": "e265758c",
   "metadata": {},
   "outputs": [],
   "source": [
    "movies_df = pd.read_csv(\"../raw_data/vectorized_texts.csv\")"
   ]
  },
  {
   "cell_type": "code",
   "execution_count": 10,
   "id": "f0fd599a",
   "metadata": {},
   "outputs": [],
   "source": [
    "X = movies_df[\"vectorized_texts\"]"
   ]
  },
  {
   "cell_type": "code",
   "execution_count": 18,
   "id": "7e91efdc",
   "metadata": {},
   "outputs": [],
   "source": [
    "Y = '[[0. 0. 0. 0. 0. 0. 0. 0. 0. 0. 0. 1. 0.]\\n [0. 0. 0. 0. 0. 0. 1. 0. 0. 0. 0. 0. 0.]\\n [0. 0. 0. 0. 0. 0. 0. 1. 0. 0. 0. 0. 0.]\\n [0. 1. 0. 0. 0. 0. 0. 0. 0. 0. 0. 0. 0.]\\n [0. 0. 0. 0. 0. 0. 0. 0. 1. 0. 0. 0. 0.]\\n [0. 0. 0. 0. 0. 0. 0. 0. 0. 0. 0. 0. 1.]\\n [0. 0. 0. 0. 0. 1. 0. 0. 0. 0. 0. 0. 0.]\\n [0. 0. 0. 0. 0. 0. 0. 0. 0. 0. 1. 0. 0.]\\n [0. 0. 0. 0. 1. 0. 0. 0. 0. 0. 0. 0. 0.]\\n [0. 0. 0. 0. 0. 0. 0. 0. 0. 1. 0. 0. 0.]\\n [1. 0. 0. 0. 0. 0. 0. 0. 0. 0. 0. 0. 0.]\\n [0. 0. 1. 0. 0. 0. 0. 0. 0. 0. 0. 0. 0.]\\n [0. 0. 0. 1. 0. 0. 0. 0. 0. 0. 0. 0. 0.]]'"
   ]
  },
  {
   "cell_type": "code",
   "execution_count": null,
   "id": "7df4dfe6",
   "metadata": {},
   "outputs": [],
   "source": []
  },
  {
   "cell_type": "code",
   "execution_count": null,
   "id": "4cceb4e5",
   "metadata": {},
   "outputs": [],
   "source": []
  },
  {
   "cell_type": "code",
   "execution_count": null,
   "id": "1dbe03d9",
   "metadata": {},
   "outputs": [],
   "source": []
  },
  {
   "cell_type": "code",
   "execution_count": null,
   "id": "9462da03",
   "metadata": {},
   "outputs": [],
   "source": []
  },
  {
   "cell_type": "code",
   "execution_count": 20,
   "id": "3a521878",
   "metadata": {},
   "outputs": [],
   "source": [
    "cosine_similarity(X, Y)"
   ]
  },
  {
   "cell_type": "code",
   "execution_count": null,
   "id": "a9eec61b",
   "metadata": {},
   "outputs": [],
   "source": []
  },
  {
   "cell_type": "code",
   "execution_count": null,
   "id": "25e5ceba",
   "metadata": {},
   "outputs": [],
   "source": []
  }
 ],
 "metadata": {
  "kernelspec": {
   "display_name": "Python 3 (ipykernel)",
   "language": "python",
   "name": "python3"
  },
  "language_info": {
   "codemirror_mode": {
    "name": "ipython",
    "version": 3
   },
   "file_extension": ".py",
   "mimetype": "text/x-python",
   "name": "python",
   "nbconvert_exporter": "python",
   "pygments_lexer": "ipython3",
   "version": "3.8.12"
  },
  "toc": {
   "base_numbering": 1,
   "nav_menu": {},
   "number_sections": true,
   "sideBar": true,
   "skip_h1_title": false,
   "title_cell": "Table of Contents",
   "title_sidebar": "Contents",
   "toc_cell": false,
   "toc_position": {},
   "toc_section_display": true,
   "toc_window_display": false
  }
 },
 "nbformat": 4,
 "nbformat_minor": 5
}
